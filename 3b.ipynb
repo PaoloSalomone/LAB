{
  "cells": [
    {
      "cell_type": "markdown",
      "metadata": {},
      "source": [
        "# Random walk"
      ]
    },
    {
      "cell_type": "markdown",
      "metadata": {},
      "source": [
        "## One dim RW"
      ]
    },
    {
      "cell_type": "code",
      "execution_count": 2,
      "metadata": {
        "id": "d9fGoVRBKs-G"
      },
      "outputs": [],
      "source": [
        "import numpy as np\n",
        "import matplotlib.pyplot as plt\n",
        "import matplotlib.animation as animation\n"
      ]
    },
    {
      "cell_type": "code",
      "execution_count": 8,
      "metadata": {},
      "outputs": [
        {
          "name": "stdout",
          "output_type": "stream",
          "text": [
            "Random walk 1D, Nstep =  10000\n",
            "Max distance = 239 , reached at step # =  9246\n",
            "Min distance = -38 , reached at step # =  925\n"
          ]
        },
        {
          "data": {
            "text/plain": [
              "[<matplotlib.lines.Line2D at 0x7efd449d39e8>]"
            ]
          },
          "execution_count": 8,
          "metadata": {},
          "output_type": "execute_result"
        },
        {
          "data": {
            "image/png": "[encoded data removed]",
            "text/plain": [
              "<Figure size 504x360 with 1 Axes>"
            ]
          },
          "metadata": {
            "needs_background": "light"
          },
          "output_type": "display_data"
        }
      ],
      "source": [
        "nstep = 10000 # number of steps\n",
        "\n",
        "rw_arr = np.random.choice([-1,1],nstep) # array of the step's values\n",
        "\n",
        "cumsum = np.cumsum(rw_arr) #array of the comulative sum\n",
        "\n",
        "print (\"Random walk 1D, Nstep = \",nstep)\n",
        "print(\"Max distance =\", cumsum.max(),\", reached at step # = \",cumsum.argmax())\n",
        "print(\"Min distance =\", cumsum.min(),\", reached at step # = \",cumsum.argmin())\n",
        "\n",
        "plt.rc('figure', figsize=(7, 5))\n",
        "plt.xlabel('Step Number')\n",
        "plt.ylabel('Distance')\n",
        "plt.title('1D RANDOM WALK')\n",
        "plt.grid()\n",
        "x = np.arange(1,10001)\n",
        "plt.plot(x,cumsum)\n"
      ]
    },
    {
      "cell_type": "code",
      "execution_count": 98,
      "metadata": {},
      "outputs": [],
      "source": [
        "#step1 = np.where(x = 20)"
      ]
    },
    {
      "cell_type": "markdown",
      "metadata": {},
      "source": [
        "## Statistics on 1D Random Walk"
      ]
    },
    {
      "cell_type": "code",
      "execution_count": 272,
      "metadata": {},
      "outputs": [
        {
          "name": "stdout",
          "output_type": "stream",
          "text": [
            "Max distance = 115 , reached by walker # 964\n"
          ]
        },
        {
          "data": {
            "text/plain": [
              "(array([279., 239., 194., 130.,  75.,  47.,  24.,   7.,   2.,   3.]),\n",
              " array([ -1. ,  10.6,  22.2,  33.8,  45.4,  57. ,  68.6,  80.2,  91.8,\n",
              "        103.4, 115. ]),\n",
              " <BarContainer object of 10 artists>)"
            ]
          },
          "execution_count": 272,
          "metadata": {},
          "output_type": "execute_result"
        },
        {
          "data": {
            "image/png": "[encoded data removed]",
            "text/plain": [
              "<Figure size 504x360 with 1 Axes>"
            ]
          },
          "metadata": {
            "needs_background": "light"
          },
          "output_type": "display_data"
        }
      ],
      "source": [
        "nstep = 1000\n",
        "nrw = 1000\n",
        "rw_arr = np.random.choice([-1,1],nstep*nrw).reshape(nrw,nstep) #Random Walk Matrix\n",
        "\n",
        "dist = np.cumsum(rw_arr,axis = 1) # distance (comulative sum)\n",
        "#print(dist)\n",
        "\n",
        "print(\"Max distance =\", dist.max(),\", reached by walker #\",int(dist.argmax()/1000))\n",
        "\n",
        "max_dist = dist.max(axis=1) # array of the maximum distances covered by the walkers\n",
        "\n",
        "plt.hist(max_dist)\n"
      ]
    }
  ],
  "metadata": {
    "colab": {
      "name": "Untitled11.ipynb",
      "provenance": []
    },
    "kernelspec": {
      "display_name": "Python 3",
      "name": "python3"
    },
    "language_info": {
      "codemirror_mode": {
        "name": "ipython",
        "version": 3
      },
      "file_extension": ".py",
      "mimetype": "text/x-python",
      "name": "python",
      "nbconvert_exporter": "python",
      "pygments_lexer": "ipython3",
      "version": "3.6.9"
    }
  },
  "nbformat": 4,
  "nbformat_minor": 0
}
